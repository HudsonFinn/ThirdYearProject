{
  "nbformat": 4,
  "nbformat_minor": 0,
  "metadata": {
    "colab": {
      "name": "Untitled0.ipynb",
      "provenance": [],
      "collapsed_sections": [],
      "authorship_tag": "ABX9TyO7p6AwPXPEPv1Br/jF5HzY",
      "include_colab_link": true
    },
    "kernelspec": {
      "name": "python3",
      "display_name": "Python 3"
    },
    "language_info": {
      "name": "python"
    }
  },
  "cells": [
    {
      "cell_type": "markdown",
      "metadata": {
        "id": "view-in-github",
        "colab_type": "text"
      },
      "source": [
        "<a href=\"https://colab.research.google.com/github/HudsonFinn/ThirdYearProject/blob/main/Untitled0.ipynb\" target=\"_parent\"><img src=\"https://colab.research.google.com/assets/colab-badge.svg\" alt=\"Open In Colab\"/></a>"
      ]
    },
    {
      "cell_type": "code",
      "metadata": {
        "colab": {
          "base_uri": "https://localhost:8080/"
        },
        "id": "LcvFZ1o_rd_o",
        "outputId": "6c695123-f8e4-4d0e-b01f-c1d41f4899db"
      },
      "source": [
        "!pip install matplotlib==3.1.3 wfdb pyEDFlib mne scikit-learn"
      ],
      "execution_count": 46,
      "outputs": [
        {
          "output_type": "stream",
          "name": "stdout",
          "text": [
            "Requirement already satisfied: matplotlib==3.1.3 in /usr/local/lib/python3.7/dist-packages (3.1.3)\n",
            "Requirement already satisfied: wfdb in /usr/local/lib/python3.7/dist-packages (3.4.0)\n",
            "Requirement already satisfied: pyEDFlib in /usr/local/lib/python3.7/dist-packages (0.1.22)\n",
            "Requirement already satisfied: mne in /usr/local/lib/python3.7/dist-packages (0.23.4)\n",
            "Requirement already satisfied: scikit-learn in /usr/local/lib/python3.7/dist-packages (0.22.2.post1)\n",
            "Requirement already satisfied: kiwisolver>=1.0.1 in /usr/local/lib/python3.7/dist-packages (from matplotlib==3.1.3) (1.3.2)\n",
            "Requirement already satisfied: python-dateutil>=2.1 in /usr/local/lib/python3.7/dist-packages (from matplotlib==3.1.3) (2.8.2)\n",
            "Requirement already satisfied: numpy>=1.11 in /usr/local/lib/python3.7/dist-packages (from matplotlib==3.1.3) (1.19.5)\n",
            "Requirement already satisfied: cycler>=0.10 in /usr/local/lib/python3.7/dist-packages (from matplotlib==3.1.3) (0.10.0)\n",
            "Requirement already satisfied: pyparsing!=2.0.4,!=2.1.2,!=2.1.6,>=2.0.1 in /usr/local/lib/python3.7/dist-packages (from matplotlib==3.1.3) (2.4.7)\n",
            "Requirement already satisfied: six in /usr/local/lib/python3.7/dist-packages (from cycler>=0.10->matplotlib==3.1.3) (1.15.0)\n",
            "Requirement already satisfied: requests>=2.8.1 in /usr/local/lib/python3.7/dist-packages (from wfdb) (2.23.0)\n",
            "Requirement already satisfied: idna>=2.2 in /usr/local/lib/python3.7/dist-packages (from wfdb) (2.10)\n",
            "Requirement already satisfied: certifi>=2016.8.2 in /usr/local/lib/python3.7/dist-packages (from wfdb) (2021.5.30)\n",
            "Requirement already satisfied: pytz>=2017.2 in /usr/local/lib/python3.7/dist-packages (from wfdb) (2018.9)\n",
            "Requirement already satisfied: scipy>=0.17.0 in /usr/local/lib/python3.7/dist-packages (from wfdb) (1.4.1)\n",
            "Requirement already satisfied: threadpoolctl>=1.0.0 in /usr/local/lib/python3.7/dist-packages (from wfdb) (3.0.0)\n",
            "Requirement already satisfied: joblib>=0.11 in /usr/local/lib/python3.7/dist-packages (from wfdb) (1.0.1)\n",
            "Requirement already satisfied: chardet>=3.0.0 in /usr/local/lib/python3.7/dist-packages (from wfdb) (3.0.4)\n",
            "Requirement already satisfied: urllib3>=1.22 in /usr/local/lib/python3.7/dist-packages (from wfdb) (1.24.3)\n",
            "Requirement already satisfied: pandas>=0.17.0 in /usr/local/lib/python3.7/dist-packages (from wfdb) (1.1.5)\n"
          ]
        }
      ]
    },
    {
      "cell_type": "code",
      "metadata": {
        "id": "aVjzECKCtMUB"
      },
      "source": [
        "class color:\n",
        "   PURPLE = '\\033[95m'\n",
        "   CYAN = '\\033[96m'\n",
        "   DARKCYAN = '\\033[36m'\n",
        "   BLUE = '\\033[94m'\n",
        "   GREEN = '\\033[92m'\n",
        "   YELLOW = '\\033[93m'\n",
        "   RED = '\\033[91m'\n",
        "   BOLD = '\\033[1m'\n",
        "   UNDERLINE = '\\033[4m'\n",
        "   END = '\\033[0m'"
      ],
      "execution_count": 47,
      "outputs": []
    },
    {
      "cell_type": "code",
      "metadata": {
        "colab": {
          "base_uri": "https://localhost:8080/"
        },
        "id": "gGrgYK6LrSVB",
        "outputId": "cb4b58d4-410f-486c-f9b5-8cbb07310687"
      },
      "source": [
        "import wfdb \n",
        "\n",
        "dbs = wfdb.get_dbs()\n",
        "\n",
        "records_list = wfdb.io.get_record_list('chbmit', records='all')\n",
        "records_list[:5]"
      ],
      "execution_count": 48,
      "outputs": [
        {
          "output_type": "execute_result",
          "data": {
            "text/plain": [
              "['chb01/chb01_01.edf',\n",
              " 'chb01/chb01_02.edf',\n",
              " 'chb01/chb01_03.edf',\n",
              " 'chb01/chb01_04.edf',\n",
              " 'chb01/chb01_05.edf']"
            ]
          },
          "metadata": {},
          "execution_count": 48
        }
      ]
    },
    {
      "cell_type": "code",
      "metadata": {
        "colab": {
          "base_uri": "https://localhost:8080/"
        },
        "id": "DHi3y8xrs0g6",
        "outputId": "5bdfae2f-97df-4be4-9221-74bd2ab1b395"
      },
      "source": [
        "part_codes = sorted(list(set([record.split('/')[0] for record in records_list])))\n",
        "part_codes"
      ],
      "execution_count": 49,
      "outputs": [
        {
          "output_type": "execute_result",
          "data": {
            "text/plain": [
              "['chb01',\n",
              " 'chb02',\n",
              " 'chb03',\n",
              " 'chb04',\n",
              " 'chb05',\n",
              " 'chb06',\n",
              " 'chb07',\n",
              " 'chb08',\n",
              " 'chb09',\n",
              " 'chb10',\n",
              " 'chb11',\n",
              " 'chb12',\n",
              " 'chb13',\n",
              " 'chb14',\n",
              " 'chb15',\n",
              " 'chb16',\n",
              " 'chb17',\n",
              " 'chb18',\n",
              " 'chb19',\n",
              " 'chb20',\n",
              " 'chb21',\n",
              " 'chb22',\n",
              " 'chb23',\n",
              " 'chb24']"
            ]
          },
          "metadata": {},
          "execution_count": 49
        }
      ]
    },
    {
      "cell_type": "code",
      "metadata": {
        "colab": {
          "base_uri": "https://localhost:8080/"
        },
        "id": "Y1aZ97zxs5cR",
        "outputId": "70678044-a987-4201-cf3a-cdfdd4c4a442"
      },
      "source": [
        "import os\n",
        "from urllib.request import urlretrieve\n",
        "\n",
        "def get_content(part_code):\n",
        "  url = \"https://physionet.org/physiobank/database/chbmit/\"+part_code+'/'+part_code+'-summary.txt'\n",
        "  filename = \"./chbmit.txt\"\n",
        "\n",
        "  urlretrieve(url,filename)\n",
        "\n",
        "  # read the file into a list\n",
        "  with open(filename, encoding='UTF-8') as f:\n",
        "      # read all the document into a list of strings (each line a new string)\n",
        "      content = f.readlines()\n",
        "      os.remove(filename)\n",
        "\n",
        "  return content\n",
        "\n",
        "get_content(part_codes[0])"
      ],
      "execution_count": 50,
      "outputs": [
        {
          "output_type": "execute_result",
          "data": {
            "text/plain": [
              "['Data Sampling Rate: 256 Hz\\n',\n",
              " '*************************\\n',\n",
              " '\\n',\n",
              " 'Channels in EDF Files:\\n',\n",
              " '**********************\\n',\n",
              " 'Channel 1: FP1-F7\\n',\n",
              " 'Channel 2: F7-T7\\n',\n",
              " 'Channel 3: T7-P7\\n',\n",
              " 'Channel 4: P7-O1\\n',\n",
              " 'Channel 5: FP1-F3\\n',\n",
              " 'Channel 6: F3-C3\\n',\n",
              " 'Channel 7: C3-P3\\n',\n",
              " 'Channel 8: P3-O1\\n',\n",
              " 'Channel 9: FP2-F4\\n',\n",
              " 'Channel 10: F4-C4\\n',\n",
              " 'Channel 11: C4-P4\\n',\n",
              " 'Channel 12: P4-O2\\n',\n",
              " 'Channel 13: FP2-F8\\n',\n",
              " 'Channel 14: F8-T8\\n',\n",
              " 'Channel 15: T8-P8\\n',\n",
              " 'Channel 16: P8-O2\\n',\n",
              " 'Channel 17: FZ-CZ\\n',\n",
              " 'Channel 18: CZ-PZ\\n',\n",
              " 'Channel 19: P7-T7\\n',\n",
              " 'Channel 20: T7-FT9\\n',\n",
              " 'Channel 21: FT9-FT10\\n',\n",
              " 'Channel 22: FT10-T8\\n',\n",
              " 'Channel 23: T8-P8\\n',\n",
              " '\\n',\n",
              " 'File Name: chb01_01.edf\\n',\n",
              " 'File Start Time: 11:42:54\\n',\n",
              " 'File End Time: 12:42:54\\n',\n",
              " 'Number of Seizures in File: 0\\n',\n",
              " '\\n',\n",
              " 'File Name: chb01_02.edf\\n',\n",
              " 'File Start Time: 12:42:57\\n',\n",
              " 'File End Time: 13:42:57\\n',\n",
              " 'Number of Seizures in File: 0\\n',\n",
              " '\\n',\n",
              " 'File Name: chb01_03.edf\\n',\n",
              " 'File Start Time: 13:43:04\\n',\n",
              " 'File End Time: 14:43:04\\n',\n",
              " 'Number of Seizures in File: 1\\n',\n",
              " 'Seizure Start Time: 2996 seconds\\n',\n",
              " 'Seizure End Time: 3036 seconds\\n',\n",
              " '\\n',\n",
              " 'File Name: chb01_04.edf\\n',\n",
              " 'File Start Time: 14:43:12\\n',\n",
              " 'File End Time: 15:43:12\\n',\n",
              " 'Number of Seizures in File: 1\\n',\n",
              " 'Seizure Start Time: 1467 seconds\\n',\n",
              " 'Seizure End Time: 1494 seconds\\n',\n",
              " '\\n',\n",
              " 'File Name: chb01_05.edf\\n',\n",
              " 'File Start Time: 15:43:19\\n',\n",
              " 'File End Time: 16:43:19\\n',\n",
              " 'Number of Seizures in File: 0\\n',\n",
              " '\\n',\n",
              " 'File Name: chb01_06.edf\\n',\n",
              " 'File Start Time: 16:43:26\\n',\n",
              " 'File End Time: 17:43:26\\n',\n",
              " 'Number of Seizures in File: 0\\n',\n",
              " '\\n',\n",
              " 'File Name: chb01_07.edf\\n',\n",
              " 'File Start Time: 17:43:33\\n',\n",
              " 'File End Time: 18:43:33\\n',\n",
              " 'Number of Seizures in File: 0\\n',\n",
              " '\\n',\n",
              " 'File Name: chb01_08.edf\\n',\n",
              " 'File Start Time: 18:43:40\\n',\n",
              " 'File End Time: 19:43:40\\n',\n",
              " 'Number of Seizures in File: 0\\n',\n",
              " '\\n',\n",
              " 'File Name: chb01_09.edf\\n',\n",
              " 'File Start Time: 19:43:56\\n',\n",
              " 'File End Time: 20:43:56\\n',\n",
              " 'Number of Seizures in File: 0\\n',\n",
              " '\\n',\n",
              " 'File Name: chb01_10.edf\\n',\n",
              " 'File Start Time: 20:44:07\\n',\n",
              " 'File End Time: 21:44:07\\n',\n",
              " 'Number of Seizures in File: 0\\n',\n",
              " '\\n',\n",
              " 'File Name: chb01_11.edf\\n',\n",
              " 'File Start Time: 21:44:14\\n',\n",
              " 'File End Time: 22:44:14\\n',\n",
              " 'Number of Seizures in File: 0\\n',\n",
              " '\\n',\n",
              " 'File Name: chb01_12.edf\\n',\n",
              " 'File Start Time: 22:44:22\\n',\n",
              " 'File End Time: 23:44:22\\n',\n",
              " 'Number of Seizures in File: 0\\n',\n",
              " '\\n',\n",
              " 'File Name: chb01_13.edf\\n',\n",
              " 'File Start Time: 23:44:29\\n',\n",
              " 'File End Time: 24:44:29\\n',\n",
              " 'Number of Seizures in File: 0\\n',\n",
              " '\\n',\n",
              " 'File Name: chb01_14.edf\\n',\n",
              " 'File Start Time: 00:44:37\\n',\n",
              " 'File End Time: 1:44:37\\n',\n",
              " 'Number of Seizures in File: 0\\n',\n",
              " '\\n',\n",
              " 'File Name: chb01_15.edf\\n',\n",
              " 'File Start Time: 01:44:44\\n',\n",
              " 'File End Time: 2:44:44\\n',\n",
              " 'Number of Seizures in File: 1\\n',\n",
              " 'Seizure Start Time: 1732 seconds\\n',\n",
              " 'Seizure End Time: 1772 seconds\\n',\n",
              " '\\n',\n",
              " 'File Name: chb01_16.edf\\n',\n",
              " 'File Start Time: 02:44:51\\n',\n",
              " 'File End Time: 3:44:51\\n',\n",
              " 'Number of Seizures in File: 1\\n',\n",
              " 'Seizure Start Time: 1015 seconds\\n',\n",
              " 'Seizure End Time: 1066 seconds\\n',\n",
              " '\\n',\n",
              " 'File Name: chb01_17.edf\\n',\n",
              " 'File Start Time: 03:44:59\\n',\n",
              " 'File End Time: 4:44:59\\n',\n",
              " 'Number of Seizures in File: 0\\n',\n",
              " '\\n',\n",
              " 'File Name: chb01_18.edf\\n',\n",
              " 'File Start Time: 04:45:06\\n',\n",
              " 'File End Time: 5:45:06\\n',\n",
              " 'Number of Seizures in File: 1\\n',\n",
              " 'Seizure Start Time: 1720 seconds\\n',\n",
              " 'Seizure End Time: 1810 seconds\\n',\n",
              " '\\n',\n",
              " 'File Name: chb01_19.edf\\n',\n",
              " 'File Start Time: 05:45:13\\n',\n",
              " 'File End Time: 6:45:13\\n',\n",
              " 'Number of Seizures in File: 0\\n',\n",
              " '\\n',\n",
              " 'File Name: chb01_20.edf\\n',\n",
              " 'File Start Time: 06:45:20\\n',\n",
              " 'File End Time: 7:29:43\\n',\n",
              " 'Number of Seizures in File: 0\\n',\n",
              " '\\n',\n",
              " 'File Name: chb01_21.edf\\n',\n",
              " 'File Start Time: 07:33:46\\n',\n",
              " 'File End Time: 8:33:46\\n',\n",
              " 'Number of Seizures in File: 1\\n',\n",
              " 'Seizure Start Time: 327 seconds\\n',\n",
              " 'Seizure End Time: 420 seconds\\n',\n",
              " '\\n',\n",
              " 'File Name: chb01_22.edf\\n',\n",
              " 'File Start Time: 08:33:49\\n',\n",
              " 'File End Time: 9:33:49\\n',\n",
              " 'Number of Seizures in File: 0\\n',\n",
              " '\\n',\n",
              " 'File Name: chb01_23.edf\\n',\n",
              " 'File Start Time: 09:33:58\\n',\n",
              " 'File End Time: 10:33:58\\n',\n",
              " 'Number of Seizures in File: 0\\n',\n",
              " '\\n',\n",
              " 'File Name: chb01_24.edf\\n',\n",
              " 'File Start Time: 10:34:06\\n',\n",
              " 'File End Time: 11:34:06\\n',\n",
              " 'Number of Seizures in File: 0\\n',\n",
              " '\\n',\n",
              " 'File Name: chb01_25.edf\\n',\n",
              " 'File Start Time: 11:34:14\\n',\n",
              " 'File End Time: 12:34:14\\n',\n",
              " 'Number of Seizures in File: 0\\n',\n",
              " '\\n',\n",
              " 'File Name: chb01_26.edf\\n',\n",
              " 'File Start Time: 12:34:22\\n',\n",
              " 'File End Time: 13:13:07\\n',\n",
              " 'Number of Seizures in File: 1\\n',\n",
              " 'Seizure Start Time: 1862 seconds\\n',\n",
              " 'Seizure End Time: 1963 seconds\\n',\n",
              " '\\n',\n",
              " 'File Name: chb01_27.edf\\n',\n",
              " 'File Start Time: 13:13:21\\n',\n",
              " 'File End Time: 13:23:21\\n',\n",
              " 'Number of Seizures in File: 0\\n',\n",
              " '\\n',\n",
              " 'File Name: chb01_29.edf\\n',\n",
              " 'File Start Time: 13:24:08\\n',\n",
              " 'File End Time: 14:24:08\\n',\n",
              " 'Number of Seizures in File: 0\\n',\n",
              " '\\n',\n",
              " 'File Name: chb01_30.edf\\n',\n",
              " 'File Start Time: 14:24:15\\n',\n",
              " 'File End Time: 15:24:15\\n',\n",
              " 'Number of Seizures in File: 0\\n',\n",
              " '\\n',\n",
              " 'File Name: chb01_31.edf\\n',\n",
              " 'File Start Time: 15:24:24\\n',\n",
              " 'File End Time: 16:24:24\\n',\n",
              " 'Number of Seizures in File: 0\\n',\n",
              " '\\n',\n",
              " 'File Name: chb01_32.edf\\n',\n",
              " 'File Start Time: 16:24:32\\n',\n",
              " 'File End Time: 17:24:32\\n',\n",
              " 'Number of Seizures in File: 0\\n',\n",
              " '\\n',\n",
              " 'File Name: chb01_33.edf\\n',\n",
              " 'File Start Time: 17:24:39\\n',\n",
              " 'File End Time: 18:24:39\\n',\n",
              " 'Number of Seizures in File: 0\\n',\n",
              " '\\n',\n",
              " 'File Name: chb01_34.edf\\n',\n",
              " 'File Start Time: 18:24:46\\n',\n",
              " 'File End Time: 19:24:46\\n',\n",
              " 'Number of Seizures in File: 0\\n',\n",
              " '\\n',\n",
              " 'File Name: chb01_36.edf\\n',\n",
              " 'File Start Time: 22:14:43\\n',\n",
              " 'File End Time: 23:14:43\\n',\n",
              " 'Number of Seizures in File: 0\\n',\n",
              " '\\n',\n",
              " 'File Name: chb01_37.edf\\n',\n",
              " 'File Start Time: 23:14:46\\n',\n",
              " 'File End Time: 24:14:46\\n',\n",
              " 'Number of Seizures in File: 0\\n',\n",
              " '\\n',\n",
              " 'File Name: chb01_38.edf\\n',\n",
              " 'File Start Time: 00:14:53\\n',\n",
              " 'File End Time: 1:14:53\\n',\n",
              " 'Number of Seizures in File: 0\\n',\n",
              " '\\n',\n",
              " 'File Name: chb01_39.edf\\n',\n",
              " 'File Start Time: 01:15:01\\n',\n",
              " 'File End Time: 2:15:01\\n',\n",
              " 'Number of Seizures in File: 0\\n',\n",
              " '\\n',\n",
              " 'File Name: chb01_40.edf\\n',\n",
              " 'File Start Time: 02:15:08\\n',\n",
              " 'File End Time: 3:15:08\\n',\n",
              " 'Number of Seizures in File: 0\\n',\n",
              " '\\n',\n",
              " 'File Name: chb01_41.edf\\n',\n",
              " 'File Start Time: 03:15:15\\n',\n",
              " 'File End Time: 4:15:15\\n',\n",
              " 'Number of Seizures in File: 0\\n',\n",
              " '\\n',\n",
              " 'File Name: chb01_42.edf\\n',\n",
              " 'File Start Time: 04:15:22\\n',\n",
              " 'File End Time: 5:15:22\\n',\n",
              " 'Number of Seizures in File: 0\\n',\n",
              " '\\n',\n",
              " 'File Name: chb01_43.edf\\n',\n",
              " 'File Start Time: 05:15:29\\n',\n",
              " 'File End Time: 6:15:29\\n',\n",
              " 'Number of Seizures in File: 0\\n',\n",
              " '\\n',\n",
              " 'File Name: chb01_46.edf\\n',\n",
              " 'File Start Time: 08:15:51\\n',\n",
              " 'File End Time: 9:15:51\\n',\n",
              " 'Number of Seizures in File: 0\\n']"
            ]
          },
          "metadata": {},
          "execution_count": 50
        }
      ]
    },
    {
      "cell_type": "code",
      "metadata": {
        "colab": {
          "base_uri": "https://localhost:8080/",
          "height": 510
        },
        "id": "IFVaz0Egs-DV",
        "outputId": "acab9620-cd26-4aaf-a1fd-fd337e630d0e"
      },
      "source": [
        "import re\n",
        "part_info_dict = {}\n",
        "\n",
        "def info_dict(content):\n",
        "  \n",
        "  line_nos=len(content)\n",
        "  line_no=1\n",
        "\n",
        "  channels = []\n",
        "  file_name = []\n",
        "  file_info_dict={}\n",
        "\n",
        "  for line in content:\n",
        "\n",
        "    # if there is Channel in the line...\n",
        "    if re.findall('Channel \\d+', line):\n",
        "      # split the line into channel number and channel reference\n",
        "      channel = line.split(': ')\n",
        "      # get the channel reference and remove any new lines\n",
        "      channel = channel[-1].replace(\"\\n\", \"\")\n",
        "      # put into the channel list\n",
        "      channels.append(channel)\n",
        "\n",
        "    # if the line is the file name\n",
        "    elif re.findall('File Name', line):\n",
        "      # if there is already a file_name\n",
        "      if file_name:\n",
        "        # flush the current file info to it\n",
        "        part_info_dict[file_name] = file_info_dict\n",
        "\n",
        "      # get the file name\n",
        "      file_name = re.findall('\\w+\\d+_\\d+|\\w+\\d+\\w+_\\d+', line)[0]\n",
        "\n",
        "      file_info_dict = {}\n",
        "      # put the channel list in the file info dict and remove duplicates\n",
        "      file_info_dict['Channels'] = list(set(channels))\n",
        "      # reset the rest of the options\n",
        "      file_info_dict['Start Time'] = ''\n",
        "      file_info_dict['End Time'] = ''\n",
        "      file_info_dict['Seizures Window'] = []\n",
        "\n",
        "    # if the line is about the file start time\n",
        "    elif re.findall('File Start Time', line):\n",
        "      # get the start time\n",
        "      file_info_dict['Start Time'] = re.findall('\\d+:\\d+:\\d+', line)[0]\n",
        "\n",
        "    # if the line is about the file end time\n",
        "    elif re.findall('File End Time', line):\n",
        "      # get the start time\n",
        "      file_info_dict['End Time'] = re.findall('\\d+:\\d+:\\d+', line)[0]\n",
        "\n",
        "    elif re.findall('Seizure Start Time|Seizure End Time|Seizure \\d+ Start Time|Seizure \\d+ End Time', line):\n",
        "      file_info_dict['Seizures Window'].append(int(re.findall('\\d+', line)[-1]))\n",
        "\n",
        "    # if last line in the list...\n",
        "    if line_no == line_nos:\n",
        "      # flush the file info to it\n",
        "      part_info_dict[file_name] = file_info_dict\n",
        "\n",
        "    line_no+=1\n",
        "    \n",
        "        \n",
        "for part_code in part_codes:\n",
        "  content = get_content(part_code)\n",
        "  info_dict(content)\n",
        "\n",
        "\n",
        "print(color.BOLD+color.UNDERLINE+'part_info_dict'+color.END)\n",
        "display(part_info_dict['chb01_18'])\n",
        "print(color.UNDERLINE+'\\nPart Keys'+color.END)\n",
        "print(part_info_dict[list(part_info_dict.keys())[0]].keys())"
      ],
      "execution_count": 51,
      "outputs": [
        {
          "output_type": "stream",
          "name": "stdout",
          "text": [
            "\u001b[1m\u001b[4mpart_info_dict\u001b[0m\n"
          ]
        },
        {
          "output_type": "display_data",
          "data": {
            "text/plain": [
              "{'Channels': ['FZ-CZ',\n",
              "  'P4-O2',\n",
              "  'CZ-PZ',\n",
              "  'FP2-F8',\n",
              "  'F4-C4',\n",
              "  'T7-P7',\n",
              "  'P7-T7',\n",
              "  'P7-O1',\n",
              "  'F7-T7',\n",
              "  'F3-C3',\n",
              "  'FT9-FT10',\n",
              "  'T7-FT9',\n",
              "  'F8-T8',\n",
              "  'P3-O1',\n",
              "  'T8-P8',\n",
              "  'FP1-F3',\n",
              "  'FP2-F4',\n",
              "  'C3-P3',\n",
              "  'FT10-T8',\n",
              "  'P8-O2',\n",
              "  'FP1-F7',\n",
              "  'C4-P4'],\n",
              " 'End Time': '5:45:06',\n",
              " 'Seizures Window': [1720, 1810],\n",
              " 'Start Time': '04:45:06'}"
            ]
          },
          "metadata": {}
        },
        {
          "output_type": "stream",
          "name": "stdout",
          "text": [
            "\u001b[4m\n",
            "Part Keys\u001b[0m\n",
            "dict_keys(['Channels', 'Start Time', 'End Time', 'Seizures Window'])\n"
          ]
        }
      ]
    },
    {
      "cell_type": "code",
      "metadata": {
        "colab": {
          "base_uri": "https://localhost:8080/"
        },
        "id": "GtfG6aRxtgN5",
        "outputId": "e6c86d6b-17cd-405a-f2d1-cbb897150814"
      },
      "source": [
        "import pandas as pd     # dataframes\n",
        "import re\n",
        "\n",
        "all_channels = []\n",
        "\n",
        "for key in part_info_dict.keys():\n",
        "    all_channels.extend(part_info_dict[key]['Channels'])\n",
        "    \n",
        "# turn the list into a pandas series\n",
        "all_channels = pd.Series(all_channels)\n",
        "\n",
        "# count how many times the channels appear in each participant\n",
        "channel_counts = all_channels.value_counts()\n",
        "channel_counts"
      ],
      "execution_count": 52,
      "outputs": [
        {
          "output_type": "execute_result",
          "data": {
            "text/plain": [
              "FZ-CZ        675\n",
              "P7-O1        675\n",
              "T7-P7        675\n",
              "P4-O2        675\n",
              "CZ-PZ        675\n",
              "            ... \n",
              "F7            13\n",
              "EKG1-CHIN     13\n",
              "CP4           13\n",
              "C4            13\n",
              "LOC-ROC       11\n",
              "Length: 87, dtype: int64"
            ]
          },
          "metadata": {},
          "execution_count": 52
        }
      ]
    },
    {
      "cell_type": "code",
      "metadata": {
        "colab": {
          "base_uri": "https://localhost:8080/"
        },
        "id": "ZGqZwoJktlT9",
        "outputId": "8a666a30-d38d-4eb5-b349-923450a36564"
      },
      "source": [
        "threshold = len(part_info_dict.keys())\n",
        "channel_keeps = list(channel_counts[channel_counts >= threshold].index)\n",
        "channel_keeps"
      ],
      "execution_count": 53,
      "outputs": [
        {
          "output_type": "execute_result",
          "data": {
            "text/plain": [
              "['FZ-CZ',\n",
              " 'P7-O1',\n",
              " 'T7-P7',\n",
              " 'P4-O2',\n",
              " 'CZ-PZ',\n",
              " 'FP2-F8',\n",
              " 'F7-T7',\n",
              " 'T8-P8',\n",
              " 'FP2-F4',\n",
              " 'F3-C3',\n",
              " 'F4-C4',\n",
              " 'C4-P4',\n",
              " 'C3-P3',\n",
              " 'FP1-F7',\n",
              " 'F8-T8',\n",
              " 'P3-O1',\n",
              " 'P8-O2',\n",
              " 'FP1-F3']"
            ]
          },
          "metadata": {},
          "execution_count": 53
        }
      ]
    },
    {
      "cell_type": "code",
      "metadata": {
        "colab": {
          "base_uri": "https://localhost:8080/",
          "height": 35
        },
        "id": "k-yneU_ZtpQr",
        "outputId": "ee5f0f15-3126-40ee-bcb0-4aa509206282"
      },
      "source": [
        "EXAMPLE_FILE = records_list[17]\n",
        "EXAMPLE_ID = EXAMPLE_FILE.split('/')[1].split('.')[0]\n",
        "EXAMPLE_ID"
      ],
      "execution_count": 54,
      "outputs": [
        {
          "output_type": "execute_result",
          "data": {
            "application/vnd.google.colaboratory.intrinsic+json": {
              "type": "string"
            },
            "text/plain": [
              "'chb01_18'"
            ]
          },
          "metadata": {},
          "execution_count": 54
        }
      ]
    },
    {
      "cell_type": "code",
      "metadata": {
        "colab": {
          "base_uri": "https://localhost:8080/",
          "height": 504
        },
        "id": "PISpT-Xett_1",
        "outputId": "a9fc4e52-a7b2-4ed5-f125-01914bfcb47e"
      },
      "source": [
        "%%time\n",
        "import pandas as pd\n",
        "import numpy as np\n",
        "import pyedflib\n",
        "\n",
        "def data_load(file, selected_channels=[]):\n",
        "\n",
        "  try: \n",
        "    url = \"https://physionet.org/physiobank/database/chbmit/\"+file\n",
        "    filename = \"./chbmit.edf\"\n",
        "\n",
        "    urlretrieve(url,filename)\n",
        "    # use the reader to get an EdfReader file\n",
        "    f = pyedflib.EdfReader(filename)\n",
        "    os.remove(filename)\n",
        "    \n",
        "    # get a list of the EEG channels\n",
        "    if len(selected_channels) == 0:\n",
        "      selected_channels = f.getSignalLabels()\n",
        "\n",
        "    # get the names of the signals\n",
        "    channel_names = f.getSignalLabels()\n",
        "    # get the sampling frequencies of each signal\n",
        "    channel_freq = f.getSampleFrequencies()\n",
        "\n",
        "    # make an empty file of 0's\n",
        "    sigbufs = np.zeros((f.getNSamples()[0],len(selected_channels)))\n",
        "    # for each of the channels in the selected channels\n",
        "    for i, channel in enumerate(selected_channels):\n",
        "      # add the channel data into the array\n",
        "      sigbufs[:, i] = f.readSignal(channel_names.index(channel))\n",
        "    \n",
        "    # turn to a pandas df and save a little space\n",
        "    df = pd.DataFrame(sigbufs, columns = selected_channels).astype('float32')\n",
        "    \n",
        "    # get equally increasing numbers upto the length of the data depending\n",
        "    # on the length of the data divided by the sampling frequency\n",
        "    index_increase = np.linspace(0,\n",
        "                                 len(df)/channel_freq[0],\n",
        "                                 len(df), endpoint=False)\n",
        "\n",
        "    # round these to the lowest nearest decimal to get the seconds\n",
        "    seconds = np.floor(index_increase).astype('uint16')\n",
        "\n",
        "    # make a column the timestamp\n",
        "    df['Time'] = seconds\n",
        "\n",
        "    # make the time stamp the index\n",
        "    df = df.set_index('Time')\n",
        "\n",
        "    # name the columns as channel\n",
        "    df.columns.name = 'Channel'\n",
        "\n",
        "    return df, channel_freq[0]\n",
        "\n",
        "  except:\n",
        "    OSError\n",
        "    return pd.DataFrame(), None\n",
        "\n",
        "\n",
        "raw_data, freq = data_load(EXAMPLE_FILE, channel_keeps)\n",
        "display(raw_data.head(257))"
      ],
      "execution_count": 55,
      "outputs": [
        {
          "output_type": "display_data",
          "data": {
            "text/html": [
              "<div>\n",
              "<style scoped>\n",
              "    .dataframe tbody tr th:only-of-type {\n",
              "        vertical-align: middle;\n",
              "    }\n",
              "\n",
              "    .dataframe tbody tr th {\n",
              "        vertical-align: top;\n",
              "    }\n",
              "\n",
              "    .dataframe thead th {\n",
              "        text-align: right;\n",
              "    }\n",
              "</style>\n",
              "<table border=\"1\" class=\"dataframe\">\n",
              "  <thead>\n",
              "    <tr style=\"text-align: right;\">\n",
              "      <th>Channel</th>\n",
              "      <th>FZ-CZ</th>\n",
              "      <th>P7-O1</th>\n",
              "      <th>T7-P7</th>\n",
              "      <th>P4-O2</th>\n",
              "      <th>CZ-PZ</th>\n",
              "      <th>FP2-F8</th>\n",
              "      <th>F7-T7</th>\n",
              "      <th>T8-P8</th>\n",
              "      <th>FP2-F4</th>\n",
              "      <th>F3-C3</th>\n",
              "      <th>F4-C4</th>\n",
              "      <th>C4-P4</th>\n",
              "      <th>C3-P3</th>\n",
              "      <th>FP1-F7</th>\n",
              "      <th>F8-T8</th>\n",
              "      <th>P3-O1</th>\n",
              "      <th>P8-O2</th>\n",
              "      <th>FP1-F3</th>\n",
              "    </tr>\n",
              "    <tr>\n",
              "      <th>Time</th>\n",
              "      <th></th>\n",
              "      <th></th>\n",
              "      <th></th>\n",
              "      <th></th>\n",
              "      <th></th>\n",
              "      <th></th>\n",
              "      <th></th>\n",
              "      <th></th>\n",
              "      <th></th>\n",
              "      <th></th>\n",
              "      <th></th>\n",
              "      <th></th>\n",
              "      <th></th>\n",
              "      <th></th>\n",
              "      <th></th>\n",
              "      <th></th>\n",
              "      <th></th>\n",
              "      <th></th>\n",
              "    </tr>\n",
              "  </thead>\n",
              "  <tbody>\n",
              "    <tr>\n",
              "      <th>0</th>\n",
              "      <td>-44.346764</td>\n",
              "      <td>16.214897</td>\n",
              "      <td>-6.837607</td>\n",
              "      <td>-75.213676</td>\n",
              "      <td>18.949940</td>\n",
              "      <td>-28.717949</td>\n",
              "      <td>63.492062</td>\n",
              "      <td>0.976801</td>\n",
              "      <td>50.598289</td>\n",
              "      <td>11.916972</td>\n",
              "      <td>25.982906</td>\n",
              "      <td>-116.630035</td>\n",
              "      <td>8.791209</td>\n",
              "      <td>35.360195</td>\n",
              "      <td>104.908424</td>\n",
              "      <td>35.750916</td>\n",
              "      <td>-192.429794</td>\n",
              "      <td>51.770451</td>\n",
              "    </tr>\n",
              "    <tr>\n",
              "      <th>0</th>\n",
              "      <td>0.195360</td>\n",
              "      <td>0.195360</td>\n",
              "      <td>0.195360</td>\n",
              "      <td>0.195360</td>\n",
              "      <td>0.195360</td>\n",
              "      <td>0.195360</td>\n",
              "      <td>0.195360</td>\n",
              "      <td>0.195360</td>\n",
              "      <td>0.195360</td>\n",
              "      <td>0.195360</td>\n",
              "      <td>0.195360</td>\n",
              "      <td>0.195360</td>\n",
              "      <td>0.195360</td>\n",
              "      <td>0.195360</td>\n",
              "      <td>0.195360</td>\n",
              "      <td>0.195360</td>\n",
              "      <td>0.195360</td>\n",
              "      <td>0.195360</td>\n",
              "    </tr>\n",
              "    <tr>\n",
              "      <th>0</th>\n",
              "      <td>0.195360</td>\n",
              "      <td>0.195360</td>\n",
              "      <td>0.195360</td>\n",
              "      <td>0.195360</td>\n",
              "      <td>-0.195360</td>\n",
              "      <td>0.195360</td>\n",
              "      <td>0.195360</td>\n",
              "      <td>0.195360</td>\n",
              "      <td>0.195360</td>\n",
              "      <td>0.195360</td>\n",
              "      <td>0.195360</td>\n",
              "      <td>-0.195360</td>\n",
              "      <td>0.195360</td>\n",
              "      <td>0.195360</td>\n",
              "      <td>0.195360</td>\n",
              "      <td>0.195360</td>\n",
              "      <td>-0.586081</td>\n",
              "      <td>0.195360</td>\n",
              "    </tr>\n",
              "    <tr>\n",
              "      <th>0</th>\n",
              "      <td>-0.586081</td>\n",
              "      <td>0.195360</td>\n",
              "      <td>0.195360</td>\n",
              "      <td>-2.930403</td>\n",
              "      <td>-1.758242</td>\n",
              "      <td>-1.758242</td>\n",
              "      <td>0.586081</td>\n",
              "      <td>-0.195360</td>\n",
              "      <td>0.195360</td>\n",
              "      <td>0.195360</td>\n",
              "      <td>0.195360</td>\n",
              "      <td>-3.711844</td>\n",
              "      <td>-0.195360</td>\n",
              "      <td>-0.195360</td>\n",
              "      <td>2.148962</td>\n",
              "      <td>0.195360</td>\n",
              "      <td>-6.837607</td>\n",
              "      <td>0.195360</td>\n",
              "    </tr>\n",
              "    <tr>\n",
              "      <th>0</th>\n",
              "      <td>0.586081</td>\n",
              "      <td>0.195360</td>\n",
              "      <td>0.195360</td>\n",
              "      <td>-1.758242</td>\n",
              "      <td>1.758242</td>\n",
              "      <td>0.195360</td>\n",
              "      <td>0.195360</td>\n",
              "      <td>0.195360</td>\n",
              "      <td>0.195360</td>\n",
              "      <td>0.195360</td>\n",
              "      <td>0.195360</td>\n",
              "      <td>1.367521</td>\n",
              "      <td>0.195360</td>\n",
              "      <td>0.195360</td>\n",
              "      <td>0.195360</td>\n",
              "      <td>0.195360</td>\n",
              "      <td>-0.195360</td>\n",
              "      <td>0.195360</td>\n",
              "    </tr>\n",
              "    <tr>\n",
              "      <th>...</th>\n",
              "      <td>...</td>\n",
              "      <td>...</td>\n",
              "      <td>...</td>\n",
              "      <td>...</td>\n",
              "      <td>...</td>\n",
              "      <td>...</td>\n",
              "      <td>...</td>\n",
              "      <td>...</td>\n",
              "      <td>...</td>\n",
              "      <td>...</td>\n",
              "      <td>...</td>\n",
              "      <td>...</td>\n",
              "      <td>...</td>\n",
              "      <td>...</td>\n",
              "      <td>...</td>\n",
              "      <td>...</td>\n",
              "      <td>...</td>\n",
              "      <td>...</td>\n",
              "    </tr>\n",
              "    <tr>\n",
              "      <th>0</th>\n",
              "      <td>6.837607</td>\n",
              "      <td>6.446887</td>\n",
              "      <td>14.261294</td>\n",
              "      <td>10.354091</td>\n",
              "      <td>27.155067</td>\n",
              "      <td>18.559219</td>\n",
              "      <td>16.996338</td>\n",
              "      <td>3.711844</td>\n",
              "      <td>11.916972</td>\n",
              "      <td>15.042735</td>\n",
              "      <td>16.996338</td>\n",
              "      <td>0.976801</td>\n",
              "      <td>28.717949</td>\n",
              "      <td>10.354091</td>\n",
              "      <td>20.122101</td>\n",
              "      <td>18.168499</td>\n",
              "      <td>-2.539683</td>\n",
              "      <td>-13.089133</td>\n",
              "    </tr>\n",
              "    <tr>\n",
              "      <th>0</th>\n",
              "      <td>6.446887</td>\n",
              "      <td>4.102564</td>\n",
              "      <td>9.572650</td>\n",
              "      <td>3.711844</td>\n",
              "      <td>23.247864</td>\n",
              "      <td>15.433455</td>\n",
              "      <td>18.559219</td>\n",
              "      <td>5.274725</td>\n",
              "      <td>15.042735</td>\n",
              "      <td>16.605618</td>\n",
              "      <td>15.042735</td>\n",
              "      <td>-8.400489</td>\n",
              "      <td>24.420025</td>\n",
              "      <td>11.916972</td>\n",
              "      <td>18.949940</td>\n",
              "      <td>14.261294</td>\n",
              "      <td>-13.870574</td>\n",
              "      <td>-11.135531</td>\n",
              "    </tr>\n",
              "    <tr>\n",
              "      <th>0</th>\n",
              "      <td>11.135531</td>\n",
              "      <td>-0.195360</td>\n",
              "      <td>7.619048</td>\n",
              "      <td>-4.493285</td>\n",
              "      <td>26.764347</td>\n",
              "      <td>21.294262</td>\n",
              "      <td>12.698413</td>\n",
              "      <td>8.400489</td>\n",
              "      <td>14.261294</td>\n",
              "      <td>16.996338</td>\n",
              "      <td>12.698413</td>\n",
              "      <td>14.261294</td>\n",
              "      <td>20.122101</td>\n",
              "      <td>18.168499</td>\n",
              "      <td>2.930403</td>\n",
              "      <td>9.181930</td>\n",
              "      <td>4.102564</td>\n",
              "      <td>-8.400489</td>\n",
              "    </tr>\n",
              "    <tr>\n",
              "      <th>0</th>\n",
              "      <td>11.526252</td>\n",
              "      <td>-8.791209</td>\n",
              "      <td>6.446887</td>\n",
              "      <td>-15.433455</td>\n",
              "      <td>26.373627</td>\n",
              "      <td>23.247864</td>\n",
              "      <td>7.619048</td>\n",
              "      <td>7.619048</td>\n",
              "      <td>12.698413</td>\n",
              "      <td>16.605618</td>\n",
              "      <td>6.056166</td>\n",
              "      <td>33.015873</td>\n",
              "      <td>18.559219</td>\n",
              "      <td>22.857143</td>\n",
              "      <td>-4.102564</td>\n",
              "      <td>-0.586081</td>\n",
              "      <td>10.744811</td>\n",
              "      <td>-6.446887</td>\n",
              "    </tr>\n",
              "    <tr>\n",
              "      <th>1</th>\n",
              "      <td>6.056166</td>\n",
              "      <td>-8.400489</td>\n",
              "      <td>0.586081</td>\n",
              "      <td>13.089133</td>\n",
              "      <td>19.340660</td>\n",
              "      <td>19.731380</td>\n",
              "      <td>1.758242</td>\n",
              "      <td>5.274725</td>\n",
              "      <td>12.307693</td>\n",
              "      <td>13.089133</td>\n",
              "      <td>0.195360</td>\n",
              "      <td>12.307693</td>\n",
              "      <td>11.135531</td>\n",
              "      <td>20.512821</td>\n",
              "      <td>-5.665446</td>\n",
              "      <td>-2.148962</td>\n",
              "      <td>18.559219</td>\n",
              "      <td>-8.009768</td>\n",
              "    </tr>\n",
              "  </tbody>\n",
              "</table>\n",
              "<p>257 rows × 18 columns</p>\n",
              "</div>"
            ],
            "text/plain": [
              "Channel      FZ-CZ      P7-O1      T7-P7  ...      P3-O1       P8-O2     FP1-F3\n",
              "Time                                      ...                                  \n",
              "0       -44.346764  16.214897  -6.837607  ...  35.750916 -192.429794  51.770451\n",
              "0         0.195360   0.195360   0.195360  ...   0.195360    0.195360   0.195360\n",
              "0         0.195360   0.195360   0.195360  ...   0.195360   -0.586081   0.195360\n",
              "0        -0.586081   0.195360   0.195360  ...   0.195360   -6.837607   0.195360\n",
              "0         0.586081   0.195360   0.195360  ...   0.195360   -0.195360   0.195360\n",
              "...            ...        ...        ...  ...        ...         ...        ...\n",
              "0         6.837607   6.446887  14.261294  ...  18.168499   -2.539683 -13.089133\n",
              "0         6.446887   4.102564   9.572650  ...  14.261294  -13.870574 -11.135531\n",
              "0        11.135531  -0.195360   7.619048  ...   9.181930    4.102564  -8.400489\n",
              "0        11.526252  -8.791209   6.446887  ...  -0.586081   10.744811  -6.446887\n",
              "1         6.056166  -8.400489   0.586081  ...  -2.148962   18.559219  -8.009768\n",
              "\n",
              "[257 rows x 18 columns]"
            ]
          },
          "metadata": {}
        },
        {
          "output_type": "stream",
          "name": "stdout",
          "text": [
            "CPU times: user 1.46 s, sys: 318 ms, total: 1.78 s\n",
            "Wall time: 2.65 s\n"
          ]
        }
      ]
    },
    {
      "cell_type": "code",
      "metadata": {
        "colab": {
          "base_uri": "https://localhost:8080/",
          "height": 739
        },
        "id": "gLkiwuTit62C",
        "outputId": "9ae6b850-6135-411a-f091-4a94da953499"
      },
      "source": [
        "import mne\n",
        "\n",
        "def mne_object(data, freq, events = None):\n",
        "  # create an mne info file with meta data about the EEG\n",
        "  info = mne.create_info(ch_names=list(data.columns), \n",
        "                         sfreq=freq, \n",
        "                         ch_types=['eeg']*data.shape[-1])\n",
        "  \n",
        "  # data needs to be in volts rather than in microvolts\n",
        "  data = data.apply(lambda x: x*1e-6)\n",
        "  # transpose the data\n",
        "  data_T = data.transpose()\n",
        "  \n",
        "  # create raw mne object\n",
        "  raw = mne.io.RawArray(data_T, info)\n",
        "\n",
        "  if events:\n",
        "    start_times = np.array(events[::2])\n",
        "    end_times = np.array(events[1::2])\n",
        "    anno_length = end_times-start_times\n",
        "    event_name = np.array(['Ictal']*len(anno_length))\n",
        "\n",
        "    raw.set_annotations(mne.Annotations(start_times,\n",
        "                                      anno_length,\n",
        "                                      event_name))\n",
        "\n",
        "  return raw\n",
        "\n",
        "mne_data = mne_object(raw_data, freq, part_info_dict[EXAMPLE_ID]['Seizures Window'])\n",
        "\n",
        "plot_kwargs = {\n",
        "    'scalings': dict(eeg=20e-5),   # zooms the plot out\n",
        "    'show_scrollbars': False,\n",
        "    'show': True\n",
        "}\n",
        "\n",
        "mne_data.plot(start = 50, \n",
        "              duration = 1, **plot_kwargs);\n",
        "\n",
        "seiz_start_time = part_info_dict[EXAMPLE_ID]['Seizures Window'][0]\n",
        "mne_data.plot(start = seiz_start_time, \n",
        "              duration = 1, **plot_kwargs);"
      ],
      "execution_count": 56,
      "outputs": [
        {
          "output_type": "stream",
          "name": "stdout",
          "text": [
            "Creating RawArray with float64 data, n_channels=18, n_times=921600\n",
            "    Range : 0 ... 921599 =      0.000 ...  3599.996 secs\n",
            "Ready.\n"
          ]
        },
        {
          "output_type": "stream",
          "name": "stderr",
          "text": [
            "/usr/local/lib/python3.7/dist-packages/matplotlib/colors.py:263: VisibleDeprecationWarning: Creating an ndarray from ragged nested sequences (which is a list-or-tuple of lists-or-tuples-or ndarrays with different lengths or shapes) is deprecated. If you meant to do this, you must specify 'dtype=object' when creating the ndarray\n",
            "  # array has the wrong kind or shape, raise the error during one-at-a-time\n"
          ]
        },
        {
          "output_type": "display_data",
          "data": {
            "image/png": "[encoded data removed]",
            "text/plain": [
              "<MNEBrowseFigure size 432x288 with 4 Axes>"
            ]
          },
          "metadata": {
            "needs_background": "light"
          }
        },
        {
          "output_type": "stream",
          "name": "stderr",
          "text": [
            "/usr/local/lib/python3.7/dist-packages/matplotlib/colors.py:263: VisibleDeprecationWarning: Creating an ndarray from ragged nested sequences (which is a list-or-tuple of lists-or-tuples-or ndarrays with different lengths or shapes) is deprecated. If you meant to do this, you must specify 'dtype=object' when creating the ndarray\n",
            "  # array has the wrong kind or shape, raise the error during one-at-a-time\n"
          ]
        },
        {
          "output_type": "display_data",
          "data": {
            "image/png": "[encoded data removed]",
            "text/plain": [
              "<MNEBrowseFigure size 432x288 with 4 Axes>"
            ]
          },
          "metadata": {
            "needs_background": "light"
          }
        }
      ]
    },
    {
      "cell_type": "code",
      "metadata": {
        "id": "qBki_e9WBpVH"
      },
      "source": [
        "import numpy as np\n",
        "x_test = np.load('x_test.npy')\n",
        "y_test = np.load('y_test.npy')\n",
        "y_train = np.load('y_train.npy')\n",
        "x_train = np.load('x_train.npy')"
      ],
      "execution_count": 140,
      "outputs": []
    },
    {
      "cell_type": "code",
      "metadata": {
        "colab": {
          "base_uri": "https://localhost:8080/"
        },
        "id": "iBzFvgE317Ze",
        "outputId": "4f5fa1ca-6c3c-427b-a21c-d9dddcc455bb"
      },
      "source": [
        "from numpy import reshape\n",
        "from sklearn.manifold import TSNE\n",
        "import seaborn as sns\n",
        "\n",
        "x_train.shape\n",
        "\n",
        "x_train_tsne = x_train[:1000]\n",
        "y_train_tsne = y_train[:1000]\n",
        "\n",
        "x_train_tsne = reshape(x_train_tsne, [x_train_tsne.shape[0], x_train_tsne.shape[1]*x_train_tsne.shape[2]])\n",
        "\n",
        "x_train_tsne.shape\n",
        "\n",
        "tsne = TSNE(n_components=2, verbose=1, random_state=123, learning_rate=10)\n",
        "\n",
        "z = tsne.fit_transform(x_train_tsne)\n",
        "\n",
        "df = pd.DataFrame()\n",
        "df[\"y\"] = y_train_tsne\n",
        "df[\"comp-1\"] = z[:,0]\n",
        "df[\"comp-2\"] = z[:,1]"
      ],
      "execution_count": 119,
      "outputs": [
        {
          "output_type": "stream",
          "name": "stdout",
          "text": [
            "[t-SNE] Computing 91 nearest neighbors...\n",
            "[t-SNE] Indexed 1000 samples in 0.860s...\n",
            "[t-SNE] Computed neighbors for 1000 samples in 23.031s...\n",
            "[t-SNE] Computed conditional probabilities for sample 1000 / 1000\n",
            "[t-SNE] Mean sigma: 0.198134\n",
            "[t-SNE] KL divergence after 250 iterations with early exaggeration: 64.806557\n",
            "[t-SNE] KL divergence after 1000 iterations: 1.985874\n"
          ]
        }
      ]
    },
    {
      "cell_type": "code",
      "metadata": {
        "colab": {
          "base_uri": "https://localhost:8080/",
          "height": 312
        },
        "id": "ORkR-99c8PPX",
        "outputId": "e2cc5377-ef62-4288-da59-3859b7c3a11a"
      },
      "source": [
        "sns.scatterplot(x=\"comp-1\", y=\"comp-2\", hue=df.y.tolist(),\n",
        "                palette=sns.color_palette(\"hls\", 2),\n",
        "                data=df).set(title=\"MNIST data T-SNE projection\")"
      ],
      "execution_count": 121,
      "outputs": [
        {
          "output_type": "execute_result",
          "data": {
            "text/plain": [
              "[Text(0.5, 1.0, 'MNIST data T-SNE projection')]"
            ]
          },
          "metadata": {},
          "execution_count": 121
        },
        {
          "output_type": "display_data",
          "data": {
            "image/png": "[encoded data removed]",
            "text/plain": [
              "<Figure size 432x288 with 1 Axes>"
            ]
          },
          "metadata": {
            "needs_background": "light"
          }
        }
      ]
    },
    {
      "cell_type": "code",
      "metadata": {
        "colab": {
          "base_uri": "https://localhost:8080/"
        },
        "id": "CmLNOEyoF7r0",
        "outputId": "cba5dd60-fa11-4cc8-b3d7-28e791b7a83f"
      },
      "source": [
        "print(y_test)"
      ],
      "execution_count": 58,
      "outputs": [
        {
          "output_type": "stream",
          "name": "stdout",
          "text": [
            "[2 2 1 1 1 0 0 0 1 0 1 3 0 1 0 0 1 0 0 1 0 0 0 2 0 0 0 0 1 1 0 0 1 0 1 1 2\n",
            " 2 1 2 1 2 0 0 1 0 1 2 1 0 1 0 1 1 0 0 0 2 0 0 1 1 0 0 1 1 0 0 0 1 1 0 0 1\n",
            " 0 1 0 2 1 0 1 0 1 1 0 1 2 1 0 2 0 0 0 0 0 1 1 0 1 0 1 1 0 1 1 0 1 0 0 1 0\n",
            " 1 0 1 0 0 1 1 0 2 0 1 2 0 1 2 1 0 0 2 2 0 1 1 0 1 0 0 1 1 1 0 0 0 1 0 0 1\n",
            " 0 0 0 0 1 1 1 1 1 0 2 0 1 1 0 1 0 0 0 0 1 0 0 0 0 1 3 0 0 1 0 1 1 0 0 0 0\n",
            " 1 1 0 0 2 2 0 0 0 0 1 2 3 0 1 1 0 0 1 1 0 1 0 1 0 0 1 0 0 0 1 0 0 0 0 1 0\n",
            " 1 0 0 0 3 1 0 0 0 0 0 1 1 2 0 0 1 0 1 0 0 1 0 0 0 2 2 2 0 0 1 0 1 1 0 1 0\n",
            " 1 0 0 1 0 1 0 0 0 0 2 0 1 1 0 2 0 0 1 1 0 1 2 1 0 0 0 0 0 1 1 1 0 0 1 1 1\n",
            " 1 1 1 0 0 0 2 0 0 0 1 0 0 0 0 2 1 1 2 1 0 0 1 0 0 0 0 1 0 1 1 1 0 0 0 0 0\n",
            " 0 0 0 0 2 0 0 0 0 2 1 1 0 1 1 0 0 2 1 1 1 0 2 0 0 0 0 0 0 0 0 0 0 0 1 1 1\n",
            " 1 1 2 1 0 0 0 1 0 0 1 0 1 1 0 1 0 0 1 2 3 2 2 0 0 1 0 0 1 0 1 0 1 0 1 1 0\n",
            " 1 1 0 0 0 0 1 0 0 1 0 1 1 0 0 0 0 1 1 0 0 1 0 1 0 1 0 0 0 1 1 0 1 0 0 1 2\n",
            " 1 1 1 0 0 0 0 0 0 1 1 1 0 0 0 1 1 0 1 1 0 0 0 0 0 1 0 2 0 0 0 0 1 1 0 0 0\n",
            " 0 0 0 1 0 1 0 1 0 0 1 1 1 1 1 0 2 0 1 0 0 1 1 2 2 0 0 1 0 0 1 0 0 1 1 1 0\n",
            " 1 1 0 1 0 0 1 1 2 0 2 1 1 1 0 0 0 0 0 1 1 1 0 0 0 1 1 1 0 2 0 1 1 0 1 1 0\n",
            " 1 1 0 1 2 1 1 0 0 0 0 0 0 0 0 0 1 0 1 2 1 1 1 0 1 1 0 2 0 1 0 1 0 1 1 1 0\n",
            " 1 0 1 0 0 1 0 0 0 1 0 2 1 1 0 0 0 2 1 0 0 0 0 1 2 0 0 1 0 0 0 1 0 0 0 1 1\n",
            " 0 0 1 2 0 0 1 2 0 1 1 1 1 0 2 0 0 2 0 1 0 0 0 1 1 0 1 0 0 0 0 1 0 1 1 0 0\n",
            " 1 0 0 0 0 1 0 1 0 0 1 0 2 1 1 0 0 1 0 0 0 0 2 0 1 1 0 0 0 0 2 0 2 0 1 0 0\n",
            " 1 0 2 0 0 2 1 2 1 0 0 1 0 1 0 0 1 0 0 1 1 1 1 0 0 2 1 0 0 0 0 1 0 1 0 0 0\n",
            " 1 0 1 1 0 1 0 0 1 0 0 1 0 0 1 1 0 0 1 2 0 2 0 1 0 0 1 2 0 1 0 3 0 0 1 1 0\n",
            " 1 0]\n"
          ]
        }
      ]
    },
    {
      "cell_type": "code",
      "metadata": {
        "colab": {
          "base_uri": "https://localhost:8080/"
        },
        "id": "05Dqqpk9vQl_",
        "outputId": "32bd6989-ffa7-41fe-9451-812a1bf26ff6"
      },
      "source": [
        "print(y_test)\n",
        "L = lambda x: 1 if x > 0 else 0\n",
        "y_test = [L(x) for x in y_test]\n",
        "print(y_test)\n",
        "y_train = [L(x) for x in y_train]"
      ],
      "execution_count": 118,
      "outputs": [
        {
          "output_type": "stream",
          "name": "stdout",
          "text": [
            "[2 2 1 1 1 0 0 0 1 0 1 3 0 1 0 0 1 0 0 1 0 0 0 2 0 0 0 0 1 1 0 0 1 0 1 1 2\n",
            " 2 1 2 1 2 0 0 1 0 1 2 1 0 1 0 1 1 0 0 0 2 0 0 1 1 0 0 1 1 0 0 0 1 1 0 0 1\n",
            " 0 1 0 2 1 0 1 0 1 1 0 1 2 1 0 2 0 0 0 0 0 1 1 0 1 0 1 1 0 1 1 0 1 0 0 1 0\n",
            " 1 0 1 0 0 1 1 0 2 0 1 2 0 1 2 1 0 0 2 2 0 1 1 0 1 0 0 1 1 1 0 0 0 1 0 0 1\n",
            " 0 0 0 0 1 1 1 1 1 0 2 0 1 1 0 1 0 0 0 0 1 0 0 0 0 1 3 0 0 1 0 1 1 0 0 0 0\n",
            " 1 1 0 0 2 2 0 0 0 0 1 2 3 0 1 1 0 0 1 1 0 1 0 1 0 0 1 0 0 0 1 0 0 0 0 1 0\n",
            " 1 0 0 0 3 1 0 0 0 0 0 1 1 2 0 0 1 0 1 0 0 1 0 0 0 2 2 2 0 0 1 0 1 1 0 1 0\n",
            " 1 0 0 1 0 1 0 0 0 0 2 0 1 1 0 2 0 0 1 1 0 1 2 1 0 0 0 0 0 1 1 1 0 0 1 1 1\n",
            " 1 1 1 0 0 0 2 0 0 0 1 0 0 0 0 2 1 1 2 1 0 0 1 0 0 0 0 1 0 1 1 1 0 0 0 0 0\n",
            " 0 0 0 0 2 0 0 0 0 2 1 1 0 1 1 0 0 2 1 1 1 0 2 0 0 0 0 0 0 0 0 0 0 0 1 1 1\n",
            " 1 1 2 1 0 0 0 1 0 0 1 0 1 1 0 1 0 0 1 2 3 2 2 0 0 1 0 0 1 0 1 0 1 0 1 1 0\n",
            " 1 1 0 0 0 0 1 0 0 1 0 1 1 0 0 0 0 1 1 0 0 1 0 1 0 1 0 0 0 1 1 0 1 0 0 1 2\n",
            " 1 1 1 0 0 0 0 0 0 1 1 1 0 0 0 1 1 0 1 1 0 0 0 0 0 1 0 2 0 0 0 0 1 1 0 0 0\n",
            " 0 0 0 1 0 1 0 1 0 0 1 1 1 1 1 0 2 0 1 0 0 1 1 2 2 0 0 1 0 0 1 0 0 1 1 1 0\n",
            " 1 1 0 1 0 0 1 1 2 0 2 1 1 1 0 0 0 0 0 1 1 1 0 0 0 1 1 1 0 2 0 1 1 0 1 1 0\n",
            " 1 1 0 1 2 1 1 0 0 0 0 0 0 0 0 0 1 0 1 2 1 1 1 0 1 1 0 2 0 1 0 1 0 1 1 1 0\n",
            " 1 0 1 0 0 1 0 0 0 1 0 2 1 1 0 0 0 2 1 0 0 0 0 1 2 0 0 1 0 0 0 1 0 0 0 1 1\n",
            " 0 0 1 2 0 0 1 2 0 1 1 1 1 0 2 0 0 2 0 1 0 0 0 1 1 0 1 0 0 0 0 1 0 1 1 0 0\n",
            " 1 0 0 0 0 1 0 1 0 0 1 0 2 1 1 0 0 1 0 0 0 0 2 0 1 1 0 0 0 0 2 0 2 0 1 0 0\n",
            " 1 0 2 0 0 2 1 2 1 0 0 1 0 1 0 0 1 0 0 1 1 1 1 0 0 2 1 0 0 0 0 1 0 1 0 0 0\n",
            " 1 0 1 1 0 1 0 0 1 0 0 1 0 0 1 1 0 0 1 2 0 2 0 1 0 0 1 2 0 1 0 3 0 0 1 1 0\n",
            " 1 0]\n",
            "[1, 1, 1, 1, 1, 0, 0, 0, 1, 0, 1, 1, 0, 1, 0, 0, 1, 0, 0, 1, 0, 0, 0, 1, 0, 0, 0, 0, 1, 1, 0, 0, 1, 0, 1, 1, 1, 1, 1, 1, 1, 1, 0, 0, 1, 0, 1, 1, 1, 0, 1, 0, 1, 1, 0, 0, 0, 1, 0, 0, 1, 1, 0, 0, 1, 1, 0, 0, 0, 1, 1, 0, 0, 1, 0, 1, 0, 1, 1, 0, 1, 0, 1, 1, 0, 1, 1, 1, 0, 1, 0, 0, 0, 0, 0, 1, 1, 0, 1, 0, 1, 1, 0, 1, 1, 0, 1, 0, 0, 1, 0, 1, 0, 1, 0, 0, 1, 1, 0, 1, 0, 1, 1, 0, 1, 1, 1, 0, 0, 1, 1, 0, 1, 1, 0, 1, 0, 0, 1, 1, 1, 0, 0, 0, 1, 0, 0, 1, 0, 0, 0, 0, 1, 1, 1, 1, 1, 0, 1, 0, 1, 1, 0, 1, 0, 0, 0, 0, 1, 0, 0, 0, 0, 1, 1, 0, 0, 1, 0, 1, 1, 0, 0, 0, 0, 1, 1, 0, 0, 1, 1, 0, 0, 0, 0, 1, 1, 1, 0, 1, 1, 0, 0, 1, 1, 0, 1, 0, 1, 0, 0, 1, 0, 0, 0, 1, 0, 0, 0, 0, 1, 0, 1, 0, 0, 0, 1, 1, 0, 0, 0, 0, 0, 1, 1, 1, 0, 0, 1, 0, 1, 0, 0, 1, 0, 0, 0, 1, 1, 1, 0, 0, 1, 0, 1, 1, 0, 1, 0, 1, 0, 0, 1, 0, 1, 0, 0, 0, 0, 1, 0, 1, 1, 0, 1, 0, 0, 1, 1, 0, 1, 1, 1, 0, 0, 0, 0, 0, 1, 1, 1, 0, 0, 1, 1, 1, 1, 1, 1, 0, 0, 0, 1, 0, 0, 0, 1, 0, 0, 0, 0, 1, 1, 1, 1, 1, 0, 0, 1, 0, 0, 0, 0, 1, 0, 1, 1, 1, 0, 0, 0, 0, 0, 0, 0, 0, 0, 1, 0, 0, 0, 0, 1, 1, 1, 0, 1, 1, 0, 0, 1, 1, 1, 1, 0, 1, 0, 0, 0, 0, 0, 0, 0, 0, 0, 0, 0, 1, 1, 1, 1, 1, 1, 1, 0, 0, 0, 1, 0, 0, 1, 0, 1, 1, 0, 1, 0, 0, 1, 1, 1, 1, 1, 0, 0, 1, 0, 0, 1, 0, 1, 0, 1, 0, 1, 1, 0, 1, 1, 0, 0, 0, 0, 1, 0, 0, 1, 0, 1, 1, 0, 0, 0, 0, 1, 1, 0, 0, 1, 0, 1, 0, 1, 0, 0, 0, 1, 1, 0, 1, 0, 0, 1, 1, 1, 1, 1, 0, 0, 0, 0, 0, 0, 1, 1, 1, 0, 0, 0, 1, 1, 0, 1, 1, 0, 0, 0, 0, 0, 1, 0, 1, 0, 0, 0, 0, 1, 1, 0, 0, 0, 0, 0, 0, 1, 0, 1, 0, 1, 0, 0, 1, 1, 1, 1, 1, 0, 1, 0, 1, 0, 0, 1, 1, 1, 1, 0, 0, 1, 0, 0, 1, 0, 0, 1, 1, 1, 0, 1, 1, 0, 1, 0, 0, 1, 1, 1, 0, 1, 1, 1, 1, 0, 0, 0, 0, 0, 1, 1, 1, 0, 0, 0, 1, 1, 1, 0, 1, 0, 1, 1, 0, 1, 1, 0, 1, 1, 0, 1, 1, 1, 1, 0, 0, 0, 0, 0, 0, 0, 0, 0, 1, 0, 1, 1, 1, 1, 1, 0, 1, 1, 0, 1, 0, 1, 0, 1, 0, 1, 1, 1, 0, 1, 0, 1, 0, 0, 1, 0, 0, 0, 1, 0, 1, 1, 1, 0, 0, 0, 1, 1, 0, 0, 0, 0, 1, 1, 0, 0, 1, 0, 0, 0, 1, 0, 0, 0, 1, 1, 0, 0, 1, 1, 0, 0, 1, 1, 0, 1, 1, 1, 1, 0, 1, 0, 0, 1, 0, 1, 0, 0, 0, 1, 1, 0, 1, 0, 0, 0, 0, 1, 0, 1, 1, 0, 0, 1, 0, 0, 0, 0, 1, 0, 1, 0, 0, 1, 0, 1, 1, 1, 0, 0, 1, 0, 0, 0, 0, 1, 0, 1, 1, 0, 0, 0, 0, 1, 0, 1, 0, 1, 0, 0, 1, 0, 1, 0, 0, 1, 1, 1, 1, 0, 0, 1, 0, 1, 0, 0, 1, 0, 0, 1, 1, 1, 1, 0, 0, 1, 1, 0, 0, 0, 0, 1, 0, 1, 0, 0, 0, 1, 0, 1, 1, 0, 1, 0, 0, 1, 0, 0, 1, 0, 0, 1, 1, 0, 0, 1, 1, 0, 1, 0, 1, 0, 0, 1, 1, 0, 1, 0, 1, 0, 0, 1, 1, 0, 1, 0]\n"
          ]
        }
      ]
    },
    {
      "cell_type": "code",
      "metadata": {
        "id": "e0fXSBqfKctp"
      },
      "source": [
        "from keras.models import Model\n",
        "from keras.layers import Dense, Activation, Permute, Dropout\n",
        "from keras.layers import Conv2D, MaxPooling2D, AveragePooling2D\n",
        "from keras.layers import SeparableConv2D, DepthwiseConv2D\n",
        "from keras.layers import BatchNormalization\n",
        "from keras.layers import SpatialDropout2D\n",
        "from keras.regularizers import l1_l2\n",
        "from keras.layers import Input, Flatten\n",
        "from keras.constraints import max_norm\n",
        "from keras import backend as K\n",
        "\n",
        "\n",
        "def EEGNet(nb_classes, Chans = 64, Samples = 128, \n",
        "             dropoutRate = 0.5, kernLength = 64, F1 = 8, \n",
        "             D = 2, F2 = 16, norm_rate = 0.25, dropoutType = 'Dropout'):\n",
        "    \"\"\" Keras Implementation of EEGNet\n",
        "    http://iopscience.iop.org/article/10.1088/1741-2552/aace8c/meta\n",
        "    Note that this implements the newest version of EEGNet and NOT the earlier\n",
        "    version (version v1 and v2 on arxiv). We strongly recommend using this\n",
        "    architecture as it performs much better and has nicer properties than\n",
        "    our earlier version. For example:\n",
        "        \n",
        "        1. Depthwise Convolutions to learn spatial filters within a \n",
        "        temporal convolution. The use of the depth_multiplier option maps \n",
        "        exactly to the number of spatial filters learned within a temporal\n",
        "        filter. This matches the setup of algorithms like FBCSP which learn \n",
        "        spatial filters within each filter in a filter-bank. This also limits \n",
        "        the number of free parameters to fit when compared to a fully-connected\n",
        "        convolution. \n",
        "        \n",
        "        2. Separable Convolutions to learn how to optimally combine spatial\n",
        "        filters across temporal bands. Separable Convolutions are Depthwise\n",
        "        Convolutions followed by (1x1) Pointwise Convolutions. \n",
        "        \n",
        "    \n",
        "    While the original paper used Dropout, we found that SpatialDropout2D \n",
        "    sometimes produced slightly better results for classification of ERP \n",
        "    signals. However, SpatialDropout2D significantly reduced performance \n",
        "    on the Oscillatory dataset (SMR, BCI-IV Dataset 2A). We recommend using\n",
        "    the default Dropout in most cases.\n",
        "        \n",
        "    Assumes the input signal is sampled at 128Hz. If you want to use this model\n",
        "    for any other sampling rate you will need to modify the lengths of temporal\n",
        "    kernels and average pooling size in blocks 1 and 2 as needed (double the \n",
        "    kernel lengths for double the sampling rate, etc). Note that we haven't \n",
        "    tested the model performance with this rule so this may not work well. \n",
        "    \n",
        "    The model with default parameters gives the EEGNet-8,2 model as discussed\n",
        "    in the paper. This model should do pretty well in general, although it is\n",
        "\tadvised to do some model searching to get optimal performance on your\n",
        "\tparticular dataset.\n",
        "    We set F2 = F1 * D (number of input filters = number of output filters) for\n",
        "    the SeparableConv2D layer. We haven't extensively tested other values of this\n",
        "    parameter (say, F2 < F1 * D for compressed learning, and F2 > F1 * D for\n",
        "    overcomplete). We believe the main parameters to focus on are F1 and D. \n",
        "    Inputs:\n",
        "        \n",
        "      nb_classes      : int, number of classes to classify\n",
        "      Chans, Samples  : number of channels and time points in the EEG data\n",
        "      dropoutRate     : dropout fraction\n",
        "      kernLength      : length of temporal convolution in first layer. We found\n",
        "                        that setting this to be half the sampling rate worked\n",
        "                        well in practice. For the SMR dataset in particular\n",
        "                        since the data was high-passed at 4Hz we used a kernel\n",
        "                        length of 32.     \n",
        "      F1, F2          : number of temporal filters (F1) and number of pointwise\n",
        "                        filters (F2) to learn. Default: F1 = 8, F2 = F1 * D. \n",
        "      D               : number of spatial filters to learn within each temporal\n",
        "                        convolution. Default: D = 2\n",
        "      dropoutType     : Either SpatialDropout2D or Dropout, passed as a string.\n",
        "    \"\"\"\n",
        "    \n",
        "    if dropoutType == 'SpatialDropout2D':\n",
        "        dropoutType = SpatialDropout2D\n",
        "    elif dropoutType == 'Dropout':\n",
        "        dropoutType = Dropout\n",
        "    else:\n",
        "        raise ValueError('dropoutType must be one of SpatialDropout2D '\n",
        "                         'or Dropout, passed as a string.')\n",
        "    \n",
        "    input1   = Input(shape = (Chans, Samples, 1))\n",
        "\n",
        "    ##################################################################\n",
        "    block1       = Conv2D(F1, (1, kernLength), padding = 'same',\n",
        "                                   input_shape = (Chans, Samples, 1),\n",
        "                                   use_bias = False)(input1)\n",
        "    block1       = BatchNormalization()(block1)\n",
        "    block1       = DepthwiseConv2D((Chans, 1), use_bias = False, \n",
        "                                   depth_multiplier = D,\n",
        "                                   depthwise_constraint = max_norm(1.))(block1)\n",
        "    block1       = BatchNormalization()(block1)\n",
        "    block1       = Activation('elu')(block1)\n",
        "    block1       = AveragePooling2D((1, 4))(block1)\n",
        "    block1       = dropoutType(dropoutRate)(block1)\n",
        "    \n",
        "    block2       = SeparableConv2D(F2, (1, 16),\n",
        "                                   use_bias = False, padding = 'same')(block1)\n",
        "    block2       = BatchNormalization()(block2)\n",
        "    block2       = Activation('elu')(block2)\n",
        "    block2       = AveragePooling2D((1, 8))(block2)\n",
        "    block2       = dropoutType(dropoutRate)(block2)\n",
        "        \n",
        "    flatten      = Flatten(name = 'flatten')(block2)\n",
        "    \n",
        "    dense        = Dense(nb_classes, name = 'dense', \n",
        "                         kernel_constraint = max_norm(norm_rate))(flatten)\n",
        "    softmax      = Activation('softmax', name = 'softmax')(dense)\n",
        "    \n",
        "    return Model(inputs=input1, outputs=softmax)"
      ],
      "execution_count": 148,
      "outputs": []
    },
    {
      "cell_type": "code",
      "metadata": {
        "colab": {
          "base_uri": "https://localhost:8080/"
        },
        "id": "KeKnLW_iSyun",
        "outputId": "d0b84f56-224f-4049-edf2-640e62427b35"
      },
      "source": [
        "n_channels = x_train.shape[1]\n",
        "n_samples = x_train.shape[2]\n",
        "y_val"
      ],
      "execution_count": 145,
      "outputs": [
        {
          "output_type": "execute_result",
          "data": {
            "text/plain": [
              "array([0, 1, 1, ..., 0, 0, 1], dtype=int32)"
            ]
          },
          "metadata": {},
          "execution_count": 145
        }
      ]
    },
    {
      "cell_type": "code",
      "metadata": {
        "id": "zTJMziduTWkc"
      },
      "source": [
        "model = EEGNet(4, Chans = n_channels, Samples = n_samples, kernLength=250)\n",
        "model.compile(optimizer = 'adam', loss = 'categorical_crossentropy', metrics=['accuracy', 'Precision', 'Recall'])"
      ],
      "execution_count": 154,
      "outputs": []
    },
    {
      "cell_type": "code",
      "metadata": {
        "id": "5zE7yr41WWCr",
        "colab": {
          "base_uri": "https://localhost:8080/",
          "height": 460
        },
        "outputId": "95ebe80a-2d65-425b-f675-c0ea5b6e6862"
      },
      "source": [
        "import sklearn.model_selection\n",
        "X_train, x_val, y_train, y_val = sklearn.model_selection.train_test_split(x_train, y_train, test_size=0.25, random_state=20) # 0.25 x 0.8 = 0.2"
      ],
      "execution_count": 152,
      "outputs": [
        {
          "output_type": "error",
          "ename": "ValueError",
          "evalue": "ignored",
          "traceback": [
            "\u001b[0;31m---------------------------------------------------------------------------\u001b[0m",
            "\u001b[0;31mValueError\u001b[0m                                Traceback (most recent call last)",
            "\u001b[0;32m<ipython-input-152-697219b06d02>\u001b[0m in \u001b[0;36m<module>\u001b[0;34m()\u001b[0m\n\u001b[1;32m      1\u001b[0m \u001b[0;32mimport\u001b[0m \u001b[0msklearn\u001b[0m\u001b[0;34m.\u001b[0m\u001b[0mmodel_selection\u001b[0m\u001b[0;34m\u001b[0m\u001b[0;34m\u001b[0m\u001b[0m\n\u001b[0;32m----> 2\u001b[0;31m \u001b[0mX_train\u001b[0m\u001b[0;34m,\u001b[0m \u001b[0mX_val\u001b[0m\u001b[0;34m,\u001b[0m \u001b[0my_train\u001b[0m\u001b[0;34m,\u001b[0m \u001b[0my_val\u001b[0m \u001b[0;34m=\u001b[0m \u001b[0msklearn\u001b[0m\u001b[0;34m.\u001b[0m\u001b[0mmodel_selection\u001b[0m\u001b[0;34m.\u001b[0m\u001b[0mtrain_test_split\u001b[0m\u001b[0;34m(\u001b[0m\u001b[0mx_train\u001b[0m\u001b[0;34m,\u001b[0m \u001b[0my_train\u001b[0m\u001b[0;34m,\u001b[0m \u001b[0mtest_size\u001b[0m\u001b[0;34m=\u001b[0m\u001b[0;36m0.25\u001b[0m\u001b[0;34m,\u001b[0m \u001b[0mrandom_state\u001b[0m\u001b[0;34m=\u001b[0m\u001b[0;36m20\u001b[0m\u001b[0;34m)\u001b[0m \u001b[0;31m# 0.25 x 0.8 = 0.2\u001b[0m\u001b[0;34m\u001b[0m\u001b[0;34m\u001b[0m\u001b[0m\n\u001b[0m",
            "\u001b[0;32m/usr/local/lib/python3.7/dist-packages/sklearn/model_selection/_split.py\u001b[0m in \u001b[0;36mtrain_test_split\u001b[0;34m(*arrays, **options)\u001b[0m\n\u001b[1;32m   2116\u001b[0m         \u001b[0;32mraise\u001b[0m \u001b[0mTypeError\u001b[0m\u001b[0;34m(\u001b[0m\u001b[0;34m\"Invalid parameters passed: %s\"\u001b[0m \u001b[0;34m%\u001b[0m \u001b[0mstr\u001b[0m\u001b[0;34m(\u001b[0m\u001b[0moptions\u001b[0m\u001b[0;34m)\u001b[0m\u001b[0;34m)\u001b[0m\u001b[0;34m\u001b[0m\u001b[0;34m\u001b[0m\u001b[0m\n\u001b[1;32m   2117\u001b[0m \u001b[0;34m\u001b[0m\u001b[0m\n\u001b[0;32m-> 2118\u001b[0;31m     \u001b[0marrays\u001b[0m \u001b[0;34m=\u001b[0m \u001b[0mindexable\u001b[0m\u001b[0;34m(\u001b[0m\u001b[0;34m*\u001b[0m\u001b[0marrays\u001b[0m\u001b[0;34m)\u001b[0m\u001b[0;34m\u001b[0m\u001b[0;34m\u001b[0m\u001b[0m\n\u001b[0m\u001b[1;32m   2119\u001b[0m \u001b[0;34m\u001b[0m\u001b[0m\n\u001b[1;32m   2120\u001b[0m     \u001b[0mn_samples\u001b[0m \u001b[0;34m=\u001b[0m \u001b[0m_num_samples\u001b[0m\u001b[0;34m(\u001b[0m\u001b[0marrays\u001b[0m\u001b[0;34m[\u001b[0m\u001b[0;36m0\u001b[0m\u001b[0;34m]\u001b[0m\u001b[0;34m)\u001b[0m\u001b[0;34m\u001b[0m\u001b[0;34m\u001b[0m\u001b[0m\n",
            "\u001b[0;32m/usr/local/lib/python3.7/dist-packages/sklearn/utils/validation.py\u001b[0m in \u001b[0;36mindexable\u001b[0;34m(*iterables)\u001b[0m\n\u001b[1;32m    246\u001b[0m     \"\"\"\n\u001b[1;32m    247\u001b[0m     \u001b[0mresult\u001b[0m \u001b[0;34m=\u001b[0m \u001b[0;34m[\u001b[0m\u001b[0m_make_indexable\u001b[0m\u001b[0;34m(\u001b[0m\u001b[0mX\u001b[0m\u001b[0;34m)\u001b[0m \u001b[0;32mfor\u001b[0m \u001b[0mX\u001b[0m \u001b[0;32min\u001b[0m \u001b[0miterables\u001b[0m\u001b[0;34m]\u001b[0m\u001b[0;34m\u001b[0m\u001b[0;34m\u001b[0m\u001b[0m\n\u001b[0;32m--> 248\u001b[0;31m     \u001b[0mcheck_consistent_length\u001b[0m\u001b[0;34m(\u001b[0m\u001b[0;34m*\u001b[0m\u001b[0mresult\u001b[0m\u001b[0;34m)\u001b[0m\u001b[0;34m\u001b[0m\u001b[0;34m\u001b[0m\u001b[0m\n\u001b[0m\u001b[1;32m    249\u001b[0m     \u001b[0;32mreturn\u001b[0m \u001b[0mresult\u001b[0m\u001b[0;34m\u001b[0m\u001b[0;34m\u001b[0m\u001b[0m\n\u001b[1;32m    250\u001b[0m \u001b[0;34m\u001b[0m\u001b[0m\n",
            "\u001b[0;32m/usr/local/lib/python3.7/dist-packages/sklearn/utils/validation.py\u001b[0m in \u001b[0;36mcheck_consistent_length\u001b[0;34m(*arrays)\u001b[0m\n\u001b[1;32m    210\u001b[0m     \u001b[0;32mif\u001b[0m \u001b[0mlen\u001b[0m\u001b[0;34m(\u001b[0m\u001b[0muniques\u001b[0m\u001b[0;34m)\u001b[0m \u001b[0;34m>\u001b[0m \u001b[0;36m1\u001b[0m\u001b[0;34m:\u001b[0m\u001b[0;34m\u001b[0m\u001b[0;34m\u001b[0m\u001b[0m\n\u001b[1;32m    211\u001b[0m         raise ValueError(\"Found input variables with inconsistent numbers of\"\n\u001b[0;32m--> 212\u001b[0;31m                          \" samples: %r\" % [int(l) for l in lengths])\n\u001b[0m\u001b[1;32m    213\u001b[0m \u001b[0;34m\u001b[0m\u001b[0m\n\u001b[1;32m    214\u001b[0m \u001b[0;34m\u001b[0m\u001b[0m\n",
            "\u001b[0;31mValueError\u001b[0m: Found input variables with inconsistent numbers of samples: [7011, 5258]"
          ]
        }
      ]
    },
    {
      "cell_type": "code",
      "metadata": {
        "colab": {
          "base_uri": "https://localhost:8080/"
        },
        "id": "HmhEKkkpZTOb",
        "outputId": "91e6a8af-ac22-46a3-9918-46eb4c62d843"
      },
      "source": [
        "from tensorflow.keras.utils import to_categorical\n",
        "history = model.fit(X_train,\n",
        "                        to_categorical(y_train),\n",
        "                        batch_size = 50,\n",
        "                        epochs = 10,\n",
        "                        validation_split=0.2)"
      ],
      "execution_count": 169,
      "outputs": [
        {
          "output_type": "stream",
          "name": "stdout",
          "text": [
            "Epoch 1/10\n",
            "85/85 [==============================] - 144s 2s/step - loss: 0.6254 - accuracy: 0.7943 - precision: 0.8563 - recall: 0.7085 - val_loss: 1.6125 - val_accuracy: 0.5114 - val_precision: 0.5114 - val_recall: 0.5114\n",
            "Epoch 2/10\n",
            "85/85 [==============================] - 143s 2s/step - loss: 0.5593 - accuracy: 0.8195 - precision: 0.8682 - recall: 0.7520 - val_loss: 1.6878 - val_accuracy: 0.5114 - val_precision: 0.5114 - val_recall: 0.5114\n",
            "Epoch 3/10\n",
            "85/85 [==============================] - 143s 2s/step - loss: 0.5203 - accuracy: 0.8321 - precision: 0.8743 - recall: 0.7772 - val_loss: 1.6689 - val_accuracy: 0.5114 - val_precision: 0.5114 - val_recall: 0.5114\n",
            "Epoch 4/10\n",
            "85/85 [==============================] - 143s 2s/step - loss: 0.4928 - accuracy: 0.8355 - precision: 0.8722 - recall: 0.7932 - val_loss: 1.2736 - val_accuracy: 0.5162 - val_precision: 0.5181 - val_recall: 0.5162\n",
            "Epoch 5/10\n",
            "85/85 [==============================] - 143s 2s/step - loss: 0.4578 - accuracy: 0.8500 - precision: 0.8790 - recall: 0.8067 - val_loss: 0.8787 - val_accuracy: 0.6359 - val_precision: 0.6442 - val_recall: 0.6264\n",
            "Epoch 6/10\n",
            "85/85 [==============================] - 143s 2s/step - loss: 0.4391 - accuracy: 0.8600 - precision: 0.8881 - recall: 0.8243 - val_loss: 0.5645 - val_accuracy: 0.7776 - val_precision: 0.7928 - val_recall: 0.7567\n",
            "Epoch 7/10\n",
            "85/85 [==============================] - 144s 2s/step - loss: 0.4195 - accuracy: 0.8695 - precision: 0.8916 - recall: 0.8367 - val_loss: 0.4412 - val_accuracy: 0.8403 - val_precision: 0.8591 - val_recall: 0.8232\n",
            "Epoch 8/10\n",
            "85/85 [==============================] - 143s 2s/step - loss: 0.4082 - accuracy: 0.8633 - precision: 0.8876 - recall: 0.8374 - val_loss: 0.3672 - val_accuracy: 0.8821 - val_precision: 0.8920 - val_recall: 0.8555\n",
            "Epoch 9/10\n",
            "85/85 [==============================] - 143s 2s/step - loss: 0.3865 - accuracy: 0.8764 - precision: 0.8980 - recall: 0.8495 - val_loss: 0.3439 - val_accuracy: 0.8812 - val_precision: 0.8998 - val_recall: 0.8622\n",
            "Epoch 10/10\n",
            "85/85 [==============================] - 143s 2s/step - loss: 0.3852 - accuracy: 0.8768 - precision: 0.8977 - recall: 0.8493 - val_loss: 0.3336 - val_accuracy: 0.8907 - val_precision: 0.9094 - val_recall: 0.8783\n"
          ]
        }
      ]
    },
    {
      "cell_type": "code",
      "metadata": {
        "id": "82v486H8btX0"
      },
      "source": [
        "proba_test = model.predict(x_test)\n",
        "print(proba_test)"
      ],
      "execution_count": null,
      "outputs": []
    },
    {
      "cell_type": "code",
      "metadata": {
        "colab": {
          "base_uri": "https://localhost:8080/"
        },
        "id": "olQcHEFRm5jR",
        "outputId": "eaf073a5-f1eb-4987-e8b9-dae75402fc6c"
      },
      "source": [
        "print(history.history.keys())"
      ],
      "execution_count": 161,
      "outputs": [
        {
          "output_type": "stream",
          "name": "stdout",
          "text": [
            "dict_keys(['loss', 'accuracy', 'precision', 'recall', 'val_loss', 'val_accuracy', 'val_precision', 'val_recall'])\n"
          ]
        }
      ]
    },
    {
      "cell_type": "code",
      "metadata": {
        "id": "YsuRjPuMLGqd"
      },
      "source": [
        "import matplotlib.pyplot as plt\n",
        "def plot_stat(stat):\n",
        "  plt.plot(history.history[stat])\n",
        "  plt.plot(history.history['val_' + stat])\n",
        "  plt.title('model ' + stat)\n",
        "  plt.ylabel(stat)\n",
        "  plt.xlabel('epoch')\n",
        "  plt.legend(['train', 'test'], loc='upper left')\n",
        "  plt.show()"
      ],
      "execution_count": 164,
      "outputs": []
    },
    {
      "cell_type": "code",
      "metadata": {
        "colab": {
          "base_uri": "https://localhost:8080/",
          "height": 1000
        },
        "id": "chejuOuWMr9J",
        "outputId": "1370aa5e-0838-456f-8fb1-0434d09d1048"
      },
      "source": [
        "plot_stat('loss')\n",
        "plot_stat('accuracy')\n",
        "plot_stat('precision')\n",
        "plot_stat('recall')"
      ],
      "execution_count": 171,
      "outputs": [
        {
          "output_type": "display_data",
          "data": {
            "image/png": "[encoded data removed]",
            "text/plain": [
              "<Figure size 432x288 with 1 Axes>"
            ]
          },
          "metadata": {
            "needs_background": "light"
          }
        },
        {
          "output_type": "display_data",
          "data": {
            "image/png": "[encoded data removed]",
            "text/plain": [
              "<Figure size 432x288 with 1 Axes>"
            ]
          },
          "metadata": {
            "needs_background": "light"
          }
        },
        {
          "output_type": "display_data",
          "data": {
            "image/png": "[encoded data removed]",
            "text/plain": [
              "<Figure size 432x288 with 1 Axes>"
            ]
          },
          "metadata": {
            "needs_background": "light"
          }
        },
        {
          "output_type": "display_data",
          "data": {
            "image/png": "[encoded data removed]",
            "text/plain": [
              "<Figure size 432x288 with 1 Axes>"
            ]
          },
          "metadata": {
            "needs_background": "light"
          }
        }
      ]
    },
    {
      "cell_type": "code",
      "metadata": {
        "colab": {
          "base_uri": "https://localhost:8080/"
        },
        "id": "iWzpmJOcdV7Y",
        "outputId": "23c33d54-9d05-4c54-fd2a-3de4b29c8226"
      },
      "source": [
        "results = model.evaluate(x_test, to_categorical(y_test), verbose=2)"
      ],
      "execution_count": 170,
      "outputs": [
        {
          "output_type": "stream",
          "name": "stdout",
          "text": [
            "25/25 - 10s - loss: 0.3088 - accuracy: 0.9037 - precision: 0.9193 - recall: 0.8922\n"
          ]
        }
      ]
    }
  ]
}